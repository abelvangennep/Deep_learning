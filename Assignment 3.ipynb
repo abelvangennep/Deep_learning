{
  "nbformat": 4,
  "nbformat_minor": 0,
  "metadata": {
    "accelerator": "GPU",
    "colab": {
      "name": "DL_Assignment_3.ipynb",
      "provenance": [],
      "collapsed_sections": []
    },
    "kernelspec": {
      "display_name": "Python 3",
      "name": "python3"
    },
    "language_info": {
      "name": "python"
    }
  },
  "cells": [
    {
      "cell_type": "code",
      "metadata": {
        "id": "_n1JW1XTpLje"
      },
      "source": [
        "import torch\n",
        "import torch.nn as nn\n",
        "import torch.optim as optim\n",
        "import torch.nn.functional as F\n",
        "from torch.nn.modules.utils import _pair\n",
        "import torchvision\n",
        "from torch.utils.data import Dataset, DataLoader\n",
        "from torchvision.transforms import ToTensor\n",
        "import torchvision.transforms as transforms\n",
        "import matplotlib.pyplot as plt\n",
        "import numpy as np\n",
        "from torch.utils.data.sampler import SubsetRandomSampler"
      ],
      "execution_count": null,
      "outputs": []
    },
    {
      "cell_type": "code",
      "metadata": {
        "colab": {
          "base_uri": "https://localhost:8080/"
        },
        "id": "AunSqATfpnrY",
        "outputId": "203a138a-d144-4af5-b530-298324d8ea9d"
      },
      "source": [
        "# check if GPU is available\n",
        "device = torch.device('cuda' if torch.cuda.is_available() else 'cpu')\n",
        "print(device)"
      ],
      "execution_count": null,
      "outputs": [
        {
          "output_type": "stream",
          "name": "stdout",
          "text": [
            "cpu\n"
          ]
        }
      ]
    },
    {
      "cell_type": "markdown",
      "metadata": {
        "id": "LK_0WYhaktul"
      },
      "source": [
        "## Question 4"
      ]
    },
    {
      "cell_type": "code",
      "metadata": {
        "id": "jqM0yt0EhfJ0"
      },
      "source": [
        "class Conv2D(nn.Module):\n",
        "  \"\"\"Module for calculating a forward pass, on init module needs number of channels of input and output\"\"\"\n",
        "  def __init__(self, in_channels, out_channels, kernel_size=(3,3), stride=1, padding=1):\n",
        "    super(Conv2D, self).__init__()\n",
        "    self.in_channels = in_channels\n",
        "    self.out_channels = out_channels\n",
        "    self.kernel_size = kernel_size\n",
        "    self.stride = stride\n",
        "    self.padding = padding\n",
        "    self.kernel = nn.Parameter(torch.randn(out_channels, in_channels, kernel_size[0], kernel_size[1]))\n",
        "\n",
        "  \n",
        "  def forward(self, input_batch):\n",
        "    \"\"\"Forward pass for kernel, using a reshapment an unrolling 2D convolution\"\"\"\n",
        "    batch, in_channels, height, width = input_batch.size()\n",
        "    out_width = (width - self.kernel_size[1] + self.padding * 2 + 1)//self.stride\n",
        "    out_height = (height - self.kernel_size[0] + self.padding * 2 + 1)//self.stride\n",
        "\n",
        "    X = F.unfold(input_batch, self.kernel_size, dilation=1, padding=self.padding, stride=self.stride)\n",
        "    X = X.transpose(1, 2)\n",
        "      \n",
        "    X = X.matmul(self.kernel.view(self.kernel.size(0), -1).t())\n",
        "    X = X.transpose(1, 2)\n",
        "      \n",
        "    batch_output = F.fold(X, (out_height, out_width), (1, 1))\n",
        "\n",
        "    return batch_output"
      ],
      "execution_count": null,
      "outputs": []
    },
    {
      "cell_type": "code",
      "metadata": {
        "id": "7iMvgb5khmRQ"
      },
      "source": [
        "conv = Conv2D(3, 1)\n",
        "input_batch = torch.randn(16, 3, 32, 32)\n",
        "output_batch = conv.forward(input_batch)\n"
      ],
      "execution_count": null,
      "outputs": []
    },
    {
      "cell_type": "code",
      "metadata": {
        "id": "bntoURUskyHd"
      },
      "source": [
        "class Conv2DFunc(torch.autograd.Function):\n",
        "  \"\"\"\n",
        "  Custom autograd Functions by subclassing torch.autograd.Function and implementing the forward and backward\n",
        "  passes which operate on Tensors.\n",
        "  \"\"\"\n",
        "  @staticmethod\n",
        "  def forward(ctx, input_batch, kernel, kernel_size=(3,3), stride=1, padding=1):\n",
        "    \"\"\"\n",
        "    Tensor containing the input is received as inout and the output is also tensor multiplied by kernel. \n",
        "    Ctx is a context object, that caches arbitrary objects for use in the backward pass using the ctx.save_for_backward method.\n",
        "    \"\"\"\n",
        "    # store objects for the backward\n",
        "    ctx.kernel_size = _pair(kernel_size)\n",
        "    ctx.padding = _pair(padding)\n",
        "    ctx.stride = _pair(stride)\n",
        "\n",
        "    batch, in_channels, height, width = input_batch.size()\n",
        "    out_width = (width - kernel_size[1] + padding * 2 + 1)//stride\n",
        "    out_height = (height - kernel_size[0] + padding * 2 + 1)//stride\n",
        "    print(\"x\",input_batch.shape)\n",
        "    X = F.unfold(input_batch, kernel_size, dilation=1, padding=padding, stride=stride)\n",
        "\n",
        "    X = X.transpose(1, 2)\n",
        "    print(\"x\",X.shape)\n",
        "    X = X.matmul(kernel.view(kernel.shape[0], -1).t())\n",
        "    \n",
        "    print(\"x\",X.shape)\n",
        "\n",
        "    X = X.transpose(1, 2)\n",
        "    \n",
        "    output_batch = F.fold(X, (out_height, out_width), (1, 1))\n",
        "\n",
        "    ctx.save_for_backward(input_batch, output_batch, kernel)\n",
        "    print(\"output_batch\",output_batch.shape)\n",
        "\n",
        "    return output_batch\n",
        "\n",
        "  @staticmethod\n",
        "  def backward(ctx, grad_output):\n",
        "    \"\"\"\n",
        "    In the backward pass we receive a Tensor containing the gradient of the loss with respect to the output\n",
        "    and the gradient of the loss with respect to the input and weights is returned\n",
        "    \"\"\"\n",
        "    # retrieve stored objects\n",
        "    input_batch, output_batch, kernel = ctx.saved_tensors\n",
        "    X = F.unfold(input_batch, ctx.kernel_size, dilation=1, padding=ctx.padding, stride=ctx.stride)\n",
        " \n",
        "    transformed_grad_output = grad_output.view(grad_output.shape[0], grad_output.shape[2]* grad_output.shape[3], grad_output.shape[1])\n",
        "    \n",
        "    kernel_grad = X.matmul(transformed_grad_output)\n",
        "    \n",
        "    input_batch_grad = transformed_grad_output.matmul(kernel.view(kernel.shape[0], -1))\n",
        "    \n",
        "    input_batch_grad = input_batch_grad.transpose(1, 2)\n",
        "\n",
        "    kernel_grad = kernel_grad.view(input_batch.shape[0], kernel.shape[1], kernel.shape[2], kernel.shape[3])\n",
        "    print(input_batch_grad.shape)\n",
        "    input_batch_grad = F.fold(input_batch_grad, (input_batch.shape[2], input_batch.shape[3]), (3,3), padding=ctx.padding)\n",
        "    print(input_batch_grad.shape)\n",
        "    return input_batch_grad, kernel_grad, None, None"
      ],
      "execution_count": null,
      "outputs": []
    },
    {
      "cell_type": "code",
      "metadata": {
        "colab": {
          "base_uri": "https://localhost:8080/"
        },
        "id": "_OAr4npnlx1t",
        "outputId": "40af3100-1c30-4a95-fe5e-60e46d9923dd"
      },
      "source": [
        "input_batch = torch.randn(16, 3, 32, 32)\n",
        "out_channels = 1\n",
        "in_channels = input_batch.shape[1]\n",
        "kernel_size = (3,3)\n",
        "kernel = nn.Parameter(torch.randn(out_channels, in_channels, kernel_size[0], kernel_size[1]))\n",
        "\n",
        "function = Conv2DFunc.apply\n",
        "output = function(input_batch, kernel)\n",
        "loss = (output * 0 + 1).sum()\n",
        "\n",
        "loss.backward()"
      ],
      "execution_count": null,
      "outputs": [
        {
          "output_type": "stream",
          "name": "stdout",
          "text": [
            "x torch.Size([16, 3, 32, 32])\n",
            "x torch.Size([16, 1024, 27])\n",
            "x torch.Size([16, 1024, 1])\n",
            "output_batch torch.Size([16, 1, 32, 32])\n",
            "torch.Size([16, 27, 1024])\n",
            "torch.Size([16, 3, 32, 32])\n"
          ]
        }
      ]
    },
    {
      "cell_type": "code",
      "metadata": {
        "colab": {
          "base_uri": "https://localhost:8080/"
        },
        "id": "syX4zIiOmnSI",
        "outputId": "584501eb-fc78-4406-bec7-7c460c21dda7"
      },
      "source": [
        "kernel = torch.randn(27, 1)\n",
        "kernel.shape[0]"
      ],
      "execution_count": null,
      "outputs": [
        {
          "output_type": "execute_result",
          "data": {
            "text/plain": [
              "27"
            ]
          },
          "metadata": {},
          "execution_count": 11
        }
      ]
    },
    {
      "cell_type": "markdown",
      "source": [
        ""
      ],
      "metadata": {
        "id": "zGoyDVnvQMBh"
      }
    },
    {
      "cell_type": "markdown",
      "metadata": {
        "id": "A2WsZb--qx1b"
      },
      "source": [
        "# Question 7"
      ]
    },
    {
      "cell_type": "code",
      "metadata": {
        "id": "6q5LjxOGJoh_"
      },
      "source": [
        "def get_train_val_loader_Q7(batch_size, augment = False):\n",
        "    \"\"\"\n",
        "    Returns trainloader and valloader of the MNIST dataset. \n",
        "    In case of data augmentation, only trainloader data is augmented.\n",
        "    \"\"\"\n",
        "    \n",
        "    \n",
        "    normalize = transforms.Normalize((0.1307,), (0.3081,))\n",
        "\n",
        "    if augment:\n",
        "        transform_train = transforms.Compose([transforms.ToTensor(),\n",
        "                                              normalize,\n",
        "                                              transforms.RandomRotation((-2.0,2.0),fill=(1,)),\n",
        "                                              transforms.RandomAffine(10),\n",
        "                                              transforms.RandomPerspective(.2)])\n",
        "    else:\n",
        "        transform_train = transforms.Compose([transforms.ToTensor(), normalize])\n",
        "    \n",
        "    transform_val = transforms.Compose([transforms.ToTensor(), normalize])\n",
        "\n",
        "    # load the same training data twice. transformations should be applied only to training data, not val data in case of augmentation,\n",
        "    # so we should split the training data twice in the exact same way to leave validation data untransformed\n",
        "    train_data = torchvision.datasets.MNIST('/files', train=True, download=True, transform=transform_train)\n",
        "  \n",
        "    val_data = torchvision.datasets.MNIST('/files', train=True, download=True, transform=transform_val)\n",
        "\n",
        "    \n",
        "    num_train = len(train_data)\n",
        "    indices = list(range(num_train))\n",
        "\n",
        "\n",
        "    # shuffle data and separate training and validation data\n",
        "    np.random.shuffle(indices)\n",
        "\n",
        "    train_idx, valid_idx = indices[10000:], indices[:10000]\n",
        "    train_sampler = SubsetRandomSampler(train_idx)\n",
        "    val_sampler = SubsetRandomSampler(valid_idx)\n",
        "\n",
        "    # create data loaders\n",
        "    train_loader = torch.utils.data.DataLoader(train_data, batch_size=batch_size, sampler=train_sampler, num_workers=2)\n",
        "    val_loader = torch.utils.data.DataLoader(val_data, batch_size=batch_size, sampler=val_sampler, num_workers=2)\n",
        "    \n",
        "    return train_loader, val_loader\n",
        "\n",
        "        \n"
      ],
      "execution_count": null,
      "outputs": []
    },
    {
      "cell_type": "code",
      "metadata": {
        "id": "bt7XFqYWwFHW"
      },
      "source": [
        "def accuracy(model, dataloader, validate=False, criterion=None):\n",
        "    correct = 0\n",
        "    total = 0\n",
        "    # since we're not training, we don't need to calculate the gradients for our outputs\n",
        "    with torch.no_grad():\n",
        "        for data in dataloader:\n",
        "            images, labels = data[0].to(device), data[1].to(device)\n",
        "\n",
        "            # calculate outputs by running images through the network\n",
        "            outputs = model(images)\n",
        "            \n",
        "            if validate:\n",
        "                loss = criterion(outputs, labels)\n",
        "\n",
        "            # the class with the highest energy is what we choose as prediction\n",
        "            _, predicted = torch.max(outputs.data, 1)\n",
        "            total += labels.size(0)\n",
        "            correct += (predicted == labels).sum().item()\n",
        "    if validate:\n",
        "        return correct / total, loss.item()\n",
        "    else:\n",
        "        return correct / total\n",
        "\n",
        "\"\"\" Training Loop \"\"\"\n",
        "\n",
        "def training_Q7(model, optimizer, criterion, trainloader, n_epochs, validate=None):\n",
        "    # lists for results\n",
        "    loss_train, loss_val, acc_train, acc_val = [], [], [], []\n",
        "    \n",
        "    for epoch in range(n_epochs):\n",
        "        running_loss = []\n",
        "\n",
        "        for i, data in enumerate(trainloader):\n",
        "            inputs, labels = data[0].to(device), data[1].to(device)\n",
        "\n",
        "            optimizer.zero_grad()\n",
        "\n",
        "            # forward + loss\n",
        "            outputs = model(inputs)\n",
        "            loss = criterion(outputs, labels)\n",
        "\n",
        "            # backward\n",
        "            loss.backward()\n",
        "\n",
        "            # update\n",
        "            optimizer.step()\n",
        "\n",
        "        #     # loss\n",
        "        #     running_loss.append(loss.item())\n",
        "\n",
        "        #     if i % 1000 == 0:  \n",
        "        #         #print('[%d, %5d]' %(epoch + 1, i))\n",
        "        #         print('training')\n",
        "\n",
        "        # loss_train.append(np.mean(running_loss))\n",
        "\n",
        "        # acc = accuracy(model, trainloader)\n",
        "        # acc_train.append(acc)\n",
        "        # print('Epoch ' + str(epoch+1) + ', training accuracy = ' + str(round(acc, 4)) + ', training loss = ' + str(round(loss_train[-1], 4)))  \n",
        "\n",
        "        if validate:\n",
        "            acc_validate, loss_validate = accuracy(model, validate, True, criterion)\n",
        "            acc_val.append(acc_validate)\n",
        "            loss_val.append(loss_validate)\n",
        "            print('Validation accuracy = ' + str(round(acc_validate, 4))+', validation loss = ' + str(round(loss_val[-1], 4)) + '\\n')\n",
        "\n",
        "    \n",
        "        \n",
        "    \n",
        "    if validate:\n",
        "        return loss_train, acc_train, loss_val, acc_val\n",
        "    else:\n",
        "        return loss_train, acc_train"
      ],
      "execution_count": null,
      "outputs": []
    },
    {
      "cell_type": "markdown",
      "metadata": {
        "id": "0jQcUzOL7z2j"
      },
      "source": [
        "# Question 8"
      ]
    },
    {
      "cell_type": "code",
      "metadata": {
        "id": "vLZ0m8Tc71Lr"
      },
      "source": [
        "class Net(nn.Module):\n",
        "    def __init__(self):\n",
        "        super().__init__()\n",
        "        self.conv1 = nn.Conv2d(1, 16, 3, 1, 1)\n",
        "        self.pool  = nn.MaxPool2d(2, 2)\n",
        "        self.conv2 = nn.Conv2d(16, 32, 3, 1, 1)\n",
        "        self.conv3 = nn.Conv2d(32, 64, 3, 1, 1)\n",
        "        self.fc    = nn.Linear(576, 10)\n",
        "    \n",
        "    def forward(self, x):\n",
        "        x = self.pool(F.relu(self.conv1(x)))\n",
        "        x = self.pool(F.relu(self.conv2(x)))\n",
        "        x = self.pool(F.relu(self.conv3(x)))\n",
        "        x = torch.flatten(x, 1)\n",
        "        x = self.fc(x)\n",
        "        return x"
      ],
      "execution_count": null,
      "outputs": []
    },
    {
      "cell_type": "code",
      "metadata": {
        "id": "6NcDhPeEVPSj",
        "colab": {
          "base_uri": "https://localhost:8080/"
        },
        "outputId": "1af7afe8-3b39-4f22-f039-3705a67653ed"
      },
      "source": [
        "\n",
        "\n",
        "learning_rate = 0.0001\n",
        "model = Net()\n",
        "model.to(device)\n",
        "\n",
        "criterion = nn.CrossEntropyLoss()     \n",
        "optimizer = optim.Adam(model.parameters(), lr = learning_rate)\n",
        "\n",
        "trainloader, valloader = get_train_val_loader_Q7(16)\n",
        "\n",
        "loss_train, acc_train, loss_val, acc_val = training_Q7(model, optimizer, criterion, trainloader, 1, valloader)\n",
        "\n",
        "# Plot the resulting loss over time\n",
        "\n",
        "plt.plot(loss_train, label='Training Loss')\n",
        "plt.plot(loss_val, label='Validation Loss', color=\"green\")\n",
        "plt.xlabel(\"Epochs\")\n",
        "plt.ylabel(\"Loss\")\n",
        "plt.legend();\n",
        "plt.show();\n",
        "plt.plot(acc_train, label='Training Accuracy')\n",
        "plt.plot(acc_val, label='Validation Accuracy', color=\"green\")\n",
        "plt.xlabel(\"Epochs\")\n",
        "plt.ylabel(\"Accuracy\")\n",
        "plt.legend();\n",
        "plt.show();"
      ],
      "execution_count": null,
      "outputs": [
        {
          "output_type": "stream",
          "name": "stdout",
          "text": [
            "Validation accuracy = 0.9541, validation loss = 0.1519\n",
            "\n"
          ]
        }
      ]
    },
    {
      "cell_type": "code",
      "metadata": {
        "id": "Eg8RLV47F9xm"
      },
      "source": [
        ""
      ],
      "execution_count": null,
      "outputs": []
    },
    {
      "cell_type": "markdown",
      "metadata": {
        "id": "d7dKpnkYhmeG"
      },
      "source": [
        "# Question 9 \n",
        "\n",
        "Data augmentation is applied to the trianing data. The same model is trained on the augmented data."
      ]
    },
    {
      "cell_type": "code",
      "metadata": {
        "colab": {
          "base_uri": "https://localhost:8080/",
          "height": 1000
        },
        "id": "xAAOlgu2q0so",
        "outputId": "ff5bfe8e-8464-417c-dd61-0fb2c41d22f4"
      },
      "source": [
        "\"\"\"\n",
        "Let's train the model on the augmented data\n",
        "\"\"\"\n",
        "# transform train data\n",
        "trainloader_aug, valloader_aug = get_train_val_loader_Q7(16, augment=True)\n",
        "\n",
        "\n",
        "learning_rate = 0.0001\n",
        "\n",
        "\n",
        "model_aug = Net()\n",
        "model_aug.to(device)\n",
        "\n",
        "criterion_aug = nn.CrossEntropyLoss()     \n",
        "optimizer_aug = optim.Adam(model_aug.parameters(), lr = learning_rate)\n",
        "\n",
        "loss_train_aug, acc_train_aug, loss_val_aug, acc_val_aug = training_Q7(model_aug, optimizer_aug, criterion_aug, trainloader_aug, 20, valloader_aug)\n",
        "loss_train, acc_train, loss_val, acc_val = training_Q7(model, optimizer, criterion, trainloader, 20, valloader)\n",
        "\n",
        "print(acc_val_aug)\n",
        "print(acc_val)\n",
        "\n",
        "plt.plot(acc_train, label='non-augmented Accuracy')\n",
        "plt.plot(acc_train_aug, label='Augmented data Accuracy', color=\"green\")\n",
        "plt.xlabel(\"Epochs\")\n",
        "plt.ylabel(\"Accuracy\")\n",
        "plt.legend();\n",
        "plt.show();\n",
        "\n",
        "\n"
      ],
      "execution_count": null,
      "outputs": [
        {
          "output_type": "stream",
          "name": "stdout",
          "text": [
            "Validation accuracy = 0.9589, validation loss = 0.0976\n",
            "\n",
            "Validation accuracy = 0.9718, validation loss = 0.3882\n",
            "\n",
            "Validation accuracy = 0.9773, validation loss = 0.0176\n",
            "\n",
            "Validation accuracy = 0.9797, validation loss = 0.0644\n",
            "\n",
            "Validation accuracy = 0.9813, validation loss = 0.0083\n",
            "\n",
            "Validation accuracy = 0.9831, validation loss = 0.0168\n",
            "\n",
            "Validation accuracy = 0.9874, validation loss = 0.002\n",
            "\n",
            "Validation accuracy = 0.986, validation loss = 0.0037\n",
            "\n",
            "Validation accuracy = 0.9877, validation loss = 0.4111\n",
            "\n",
            "Validation accuracy = 0.9878, validation loss = 0.0007\n",
            "\n",
            "Validation accuracy = 0.9893, validation loss = 0.0756\n",
            "\n",
            "Validation accuracy = 0.9873, validation loss = 0.0001\n",
            "\n",
            "Validation accuracy = 0.9891, validation loss = 0.0099\n",
            "\n",
            "Validation accuracy = 0.9879, validation loss = 0.009\n",
            "\n",
            "Validation accuracy = 0.99, validation loss = 0.0066\n",
            "\n",
            "Validation accuracy = 0.9901, validation loss = 0.0003\n",
            "\n",
            "Validation accuracy = 0.9914, validation loss = 0.0143\n",
            "\n",
            "Validation accuracy = 0.9916, validation loss = 0.1569\n",
            "\n",
            "Validation accuracy = 0.9901, validation loss = 0.1076\n",
            "\n",
            "Validation accuracy = 0.991, validation loss = 0.0012\n",
            "\n",
            "Validation accuracy = 0.9865, validation loss = 0.0441\n",
            "\n",
            "Validation accuracy = 0.985, validation loss = 0.0106\n",
            "\n",
            "Validation accuracy = 0.9869, validation loss = 0.0018\n",
            "\n",
            "Validation accuracy = 0.9863, validation loss = 0.0012\n",
            "\n",
            "Validation accuracy = 0.9873, validation loss = 0.0149\n",
            "\n",
            "Validation accuracy = 0.9882, validation loss = 0.0003\n",
            "\n",
            "Validation accuracy = 0.9889, validation loss = 0.0148\n",
            "\n",
            "Validation accuracy = 0.988, validation loss = 0.0097\n",
            "\n",
            "Validation accuracy = 0.9891, validation loss = 0.0003\n",
            "\n",
            "Validation accuracy = 0.9868, validation loss = 0.0014\n",
            "\n",
            "Validation accuracy = 0.9878, validation loss = 0.0095\n",
            "\n",
            "Validation accuracy = 0.9871, validation loss = 0.1906\n",
            "\n",
            "Validation accuracy = 0.9878, validation loss = 0.0008\n",
            "\n",
            "Validation accuracy = 0.9861, validation loss = 0.4933\n",
            "\n",
            "Validation accuracy = 0.9894, validation loss = 0.0001\n",
            "\n",
            "Validation accuracy = 0.9887, validation loss = 0.0013\n",
            "\n",
            "Validation accuracy = 0.9892, validation loss = 0.0033\n",
            "\n",
            "Validation accuracy = 0.9894, validation loss = 0.0003\n",
            "\n",
            "Validation accuracy = 0.989, validation loss = 0.0002\n",
            "\n",
            "Validation accuracy = 0.9869, validation loss = 0.0888\n",
            "\n",
            "[0.9589, 0.9718, 0.9773, 0.9797, 0.9813, 0.9831, 0.9874, 0.986, 0.9877, 0.9878, 0.9893, 0.9873, 0.9891, 0.9879, 0.99, 0.9901, 0.9914, 0.9916, 0.9901, 0.991]\n",
            "[0.9865, 0.985, 0.9869, 0.9863, 0.9873, 0.9882, 0.9889, 0.988, 0.9891, 0.9868, 0.9878, 0.9871, 0.9878, 0.9861, 0.9894, 0.9887, 0.9892, 0.9894, 0.989, 0.9869]\n"
          ]
        },
        {
          "output_type": "display_data",
          "data": {
            "image/png": "[encoded data removed]",
            "text/plain": [
              "<Figure size 432x288 with 1 Axes>"
            ]
          },
          "metadata": {
            "needs_background": "light"
          }
        }
      ]
    },
    {
      "cell_type": "code",
      "source": [
        "plt.plot([1,2,3,4,5,6,7,8,9,10,11,12,13,14,15,16,17,18,19,20], acc_val, label='non-augmented Accuracy')\n",
        "plt.plot([1,2,3,4,5,6,7,8,9,10,11,12,13,14,15,16,17,18,19,20], acc_val_aug, label='Augmented Accuracy', color=\"green\")\n",
        "plt.xlabel(\"Epochs\")\n",
        "plt.ylabel(\"Accuracy\")\n",
        "plt.legend();\n",
        "plt.show();"
      ],
      "metadata": {
        "colab": {
          "base_uri": "https://localhost:8080/",
          "height": 279
        },
        "id": "awAr6hciZQxl",
        "outputId": "0f72e218-b59b-4f25-931a-97bca2589a43"
      },
      "execution_count": null,
      "outputs": [
        {
          "output_type": "display_data",
          "data": {
            "image/png": "[encoded data removed]",
            "text/plain": [
              "<Figure size 432x288 with 1 Axes>"
            ]
          },
          "metadata": {
            "needs_background": "light"
          }
        }
      ]
    },
    {
      "cell_type": "code",
      "metadata": {
        "colab": {
          "base_uri": "https://localhost:8080/"
        },
        "id": "zRfz3cTuquir",
        "outputId": "6029c595-c348-404b-db22-bd8202e4f0ae"
      },
      "source": [
        "\"\"\"\n",
        "Reporting accuracies on test data for model trained on normal data and model trained on augmented\n",
        "\"\"\"\n",
        "# get test data and test_loader\n",
        "normalize = transforms.Normalize((0.1307,), (0.3081,))\n",
        "\n",
        "test_data = torchvision.datasets.MNIST('/files', train=False, download=True, transform=transforms.Compose([transforms.ToTensor(), normalize]))\n",
        "testloader = torch.utils.data.DataLoader(test_data, batch_size=100, num_workers=2)\n",
        "\n",
        "\n",
        "\n",
        "# accuracy for non-augmented data:\n",
        "test_accuracy = accuracy(model, testloader)\n",
        "print('For non-augmented data, final accuracy is ' + str(round(test_accuracy, 4)))\n",
        "\n",
        "# accuracy for augmented data:\n",
        "test_accuracy_aug = accuracy(model_aug, testloader)\n",
        "print('For augmented data, final accuracy is ' + str(round(test_accuracy_aug, 4)))\n",
        "\n"
      ],
      "execution_count": null,
      "outputs": [
        {
          "output_type": "stream",
          "name": "stdout",
          "text": [
            "For non-augmented data, final accuracy is 0.9878\n",
            "For augmented data, final accuracy is 0.9767\n"
          ]
        }
      ]
    },
    {
      "cell_type": "markdown",
      "metadata": {
        "id": "3PM24WErhCeX"
      },
      "source": [
        "# Question 10\n"
      ]
    },
    {
      "cell_type": "markdown",
      "metadata": {
        "id": "FkDW92Hhr0fi"
      },
      "source": [
        "# Question 11 \n"
      ]
    },
    {
      "cell_type": "code",
      "metadata": {
        "colab": {
          "base_uri": "https://localhost:8080/"
        },
        "id": "Ll77yKv9hEWA",
        "outputId": "e705dc71-0da6-4aa3-eccf-aa154d755020"
      },
      "source": [
        "# just examples\n",
        "b, c, h, w = 8, 3, 1024, 768\n",
        "\n",
        "# input tensor\n",
        "x = torch.randn(b, c, h, w)\n",
        "\n",
        "# implementing global max and mean with just one line per operation\n",
        "def global_max(x): return nn.MaxPool2d(x.size()[2:])(x).squeeze()\n",
        "def global_mean(x): return nn.AvgPool2d(x.size()[2:])(x).squeeze()\n",
        "\n",
        "y_max = global_max(x)\n",
        "y_mean = global_mean(x)\n",
        "\n",
        "# check if size is as desired!\n",
        "print(y_max.size())\n",
        "print(y_mean.size())"
      ],
      "execution_count": null,
      "outputs": [
        {
          "name": "stdout",
          "output_type": "stream",
          "text": [
            "torch.Size([8, 3])\n",
            "torch.Size([8, 3])\n"
          ]
        }
      ]
    },
    {
      "cell_type": "markdown",
      "metadata": {
        "id": "VaVirtlI3wOR"
      },
      "source": [
        "# Question 12 "
      ]
    },
    {
      "cell_type": "code",
      "metadata": {
        "id": "5OyX5xig3vr7"
      },
      "source": [
        "# Downloading and extracting the images\n",
        "! wget https://dlvu.github.io/data/mnist-varres.tgz\n",
        "!tar -xvf 'mnist-varres.tgz' "
      ],
      "execution_count": null,
      "outputs": []
    },
    {
      "cell_type": "code",
      "metadata": {
        "id": "2oWp4kmp57vB"
      },
      "source": [
        "normalize = transforms.Normalize((0.1307,), (0.3081,))\n",
        "\n",
        "# resizing the images and making them have 1 channel rather than 3\n",
        "transform_train = transforms.Compose([transforms.ToTensor(), normalize, transforms.Resize([28, 28]), transforms.Grayscale(1)]) \n",
        "\n",
        "root = 'mnist-varres/train'\n",
        "train_v = torchvision.datasets.ImageFolder(root, transform = transform_train)\n",
        "\n",
        "trainset, valset = torch.utils.data.random_split(train_v, [55000, 5000])\n",
        "\n",
        "# Creating dataloaders \n",
        "train_loader_28 = torch.utils.data.DataLoader(trainset, batch_size=16, shuffle=True, num_workers=2)\n",
        "val_loader_28 = torch.utils.data.DataLoader(valset, batch_size=16, shuffle=True, num_workers=2)"
      ],
      "execution_count": null,
      "outputs": []
    },
    {
      "cell_type": "code",
      "metadata": {
        "colab": {
          "base_uri": "https://localhost:8080/"
        },
        "id": "NlNXT0Uo6Tec",
        "outputId": "1e5ee500-6b88-498d-ff00-07c1ecc20097"
      },
      "source": [
        "learning_rate = 0.005\n",
        "model_Q12 = Net()\n",
        "model_Q12.to(device)\n",
        "\n",
        "criterion_Q12 = nn.CrossEntropyLoss()     \n",
        "optimizer_Q12 = optim.Adam(model_Q12.parameters(), lr = learning_rate)\n",
        "\n",
        "loss_train_Q12, acc_train_Q12, loss_val_Q12, acc_val_Q12 = training_Q7(model_Q12, optimizer_Q12, criterion_Q12, train_loader_28, 2, val_loader_28)"
      ],
      "execution_count": null,
      "outputs": [
        {
          "output_type": "stream",
          "name": "stdout",
          "text": [
            "training\n",
            "training\n",
            "training\n",
            "training\n",
            "Epoch 1, training accuracy = 0.9348, training loss = 0.4193\n",
            "Validation accuracy = 0.9248, validation loss = 0.2414\n",
            "\n",
            "training\n",
            "training\n",
            "training\n",
            "training\n",
            "Epoch 2, training accuracy = 0.9389, training loss = 0.2271\n",
            "Validation accuracy = 0.9324, validation loss = 0.1635\n",
            "\n"
          ]
        }
      ]
    },
    {
      "cell_type": "markdown",
      "metadata": {
        "id": "k0wNlgl9CCEB"
      },
      "source": [
        "# Question 14\n",
        "\n",
        "First the data is sorted based on size. The sorted data is placed in new folders on the drive. After this a custom Dataset class is constructed to get the data from the new folders. Next, a function is defined to create dataloaders from the custom datasets."
      ]
    },
    {
      "cell_type": "code",
      "metadata": {
        "id": "EcqeSkHqbpqP"
      },
      "source": [
        "import glob\n",
        "import numpy as np\n",
        "from PIL import Image\n",
        "import numpy as np\n",
        "\n",
        "\n",
        "def make_folders(instance = 'train'):\n",
        "    \"\"\"\n",
        "    Create new folders for the MNIST images. Folders are separated by size, x and y, and training or test instance\n",
        "    \"\"\"\n",
        "    root = 'mnist-varres/' + instance + '/'\n",
        "    l = list(range(10))\n",
        "\n",
        "    data_32, data_48, data_64 = [[],[]], [[],[]], [[],[]]\n",
        "\n",
        "    for label in l:\n",
        "        images = glob.glob(root+str(label)+ '/*.png')\n",
        "\n",
        "        for image in images:\n",
        "            image = np.asarray(Image.open(image))\n",
        "            if np.shape(image)[0] == 32:\n",
        "                data_32[0].append([image])\n",
        "                data_32[1].append(label)\n",
        "\n",
        "            elif np.shape(image)[0] == 48:\n",
        "                data_48[0].append([image])\n",
        "                data_48[1].append(label)\n",
        "                \n",
        "            elif np.shape(image)[0] == 64:\n",
        "                data_64[0].append([image])\n",
        "                data_64[1].append(label)\n",
        "        \n",
        "\n",
        "    data_32_x, data_32_y = np.asarray(data_32[0]), np.asarray(data_32[1])\n",
        "    data_48_x, data_48_y = np.asarray(data_48[0]), np.asarray(data_48[1])\n",
        "    data_64_x, data_64_y = np.asarray(data_64[0]), np.asarray(data_64[1])\n",
        "\n",
        "    np.save('/content/32_x_' + instance, data_32_x, allow_pickle = True)\n",
        "    np.save('/content/48_x_' + instance, data_48_x, allow_pickle = True)\n",
        "    np.save('/content/64_x_' + instance, data_64_x, allow_pickle = True)\n",
        "\n",
        "    np.save('/content/32_y_' + instance, data_32_y, allow_pickle = True)\n",
        "    np.save('/content/48_y_' + instance, data_48_y, allow_pickle = True)\n",
        "    np.save('/content/64_y_' + instance, data_64_y, allow_pickle = True)\n",
        "\n",
        "\n",
        "make_folders()\n",
        "make_folders('test')"
      ],
      "execution_count": null,
      "outputs": []
    },
    {
      "cell_type": "code",
      "metadata": {
        "id": "_uQCrKd7b-NC"
      },
      "source": [
        "class VarDataset(Dataset):\n",
        "    \"\"\"\n",
        "    Custom dataset class\n",
        "    \"\"\"\n",
        "\n",
        "    def __init__(self, size = 32, instance = 'train'):\n",
        "        file_x = '/content/' + str(size) + '_x_' + instance + '.npy'\n",
        "        file_y = '/content/' + str(size) + '_y_' + instance + '.npy'\n",
        "        x = np.load(file_x, allow_pickle = True)\n",
        "        y = np.load(file_y, allow_pickle = True)\n",
        "        \n",
        "        x = x.astype('float32')\n",
        "\n",
        "        self.n_samples = np.shape(x)[0]\n",
        "\n",
        "        self.x_data = torch.from_numpy(x) \n",
        "        self.y_data = torch.from_numpy(y) \n",
        "        self.y_data = self.y_data.to(torch.long)\n",
        "\n",
        "    # support indexing such that dataset[i] can be used to get i-th sample\n",
        "    def __getitem__(self, index):\n",
        "        return self.x_data[index], self.y_data[index]\n",
        "\n",
        "    # we can call len(dataset) to return the size\n",
        "    def __len__(self):\n",
        "        return self.n_samples\n",
        "\n",
        "data_32_train_full = VarDataset(32)\n",
        "data_48_train_full = VarDataset(48)\n",
        "data_64_train_full = VarDataset(64)\n",
        "\n",
        "data_32_test = VarDataset(32, 'test')\n",
        "data_48_test = VarDataset(48, 'test')\n",
        "data_64_test = VarDataset(64, 'test')\n",
        "\n"
      ],
      "execution_count": null,
      "outputs": []
    },
    {
      "cell_type": "code",
      "metadata": {
        "id": "lQXfxwtyrXUE"
      },
      "source": [
        "import math\n",
        "\n",
        "def get_data_loaders_Q14(dataset, batch_size):\n",
        "    split = math.floor(len(dataset)/10) * 8\n",
        "\n",
        "    trainset, valset = torch.utils.data.random_split(dataset, [split, len(dataset)-split])\n",
        "\n",
        "    trainloader = torch.utils.data.DataLoader(trainset, batch_size = batch_size, shuffle = True, num_workers = 2)\n",
        "    valloader = torch.utils.data.DataLoader(valset, batch_size = batch_size, shuffle = True, num_workers = 2)\n",
        "\n",
        "    return trainloader, valloader\n",
        "\n",
        "data_32_train, data_32_val = get_data_loaders_Q14(data_32_train_full, 16)\n",
        "data_48_train, data_48_val = get_data_loaders_Q14(data_48_train_full, 16)\n",
        "data_64_train, data_64_val = get_data_loaders_Q14(data_64_train_full, 16)\n",
        "\n"
      ],
      "execution_count": null,
      "outputs": []
    },
    {
      "cell_type": "code",
      "metadata": {
        "id": "9YS6N_EK5z9u"
      },
      "source": [
        "def training_Q14(model, optimizer, criterion, trainloaders, n_epochs, valloaders):\n",
        "    # lists for results\n",
        "    loss_train, acc_train, loss_val, acc_val = [], [], [], []\n",
        "\n",
        "    for epoch in range(n_epochs):\n",
        "        running_loss = []\n",
        "        total_train = 0\n",
        "        correct_train = 0\n",
        "\n",
        "        # go through list of trainloaders\n",
        "        for trainloader in trainloaders:\n",
        "\n",
        "            for i, data in enumerate(trainloader):\n",
        "                inputs, labels = data[0].to(device), data[1].to(device)\n",
        "                total_train += labels.size(0)\n",
        "\n",
        "                optimizer.zero_grad()\n",
        "\n",
        "                # forward + loss\n",
        "                outputs = model(inputs)\n",
        "                loss = criterion(outputs, labels)\n",
        "\n",
        "                with torch.no_grad():\n",
        "                    _, predicted = torch.max(outputs.data, -1)\n",
        "                    correct_train += (predicted == labels).sum().item()\n",
        "\n",
        "                # backward\n",
        "                loss.backward()\n",
        "\n",
        "                # update\n",
        "                optimizer.step()\n",
        "\n",
        "                # loss\n",
        "                running_loss.append(loss.item())\n",
        "                if i % 500 == 0:\n",
        "                    print('Training.....')\n",
        "\n",
        "            \n",
        "\n",
        "        loss_train.append(np.mean(running_loss))\n",
        "        acc_train.append(correct_train/ total_train)\n",
        "\n",
        "        print('Epoch ' + str(epoch+1) + ', training accuracy = ' + str(round(acc_train[-1], 4)) + ', training loss = ' + str(round(loss_train[-1], 4)))  \n",
        "        \n",
        "\n",
        "        \"\"\" Get validation loss and accuracy \"\"\"\n",
        "        total_val_correct = 0\n",
        "        total_val = 0\n",
        "        running_val_loss = []\n",
        "        for valloader in valloaders:\n",
        "            for data in valloader:\n",
        "                inputs, labels = data[0].to(device), data[1].to(device)\n",
        "                total_val += labels.size(0)\n",
        "\n",
        "                with torch.no_grad():\n",
        "                    outputs = model(inputs)\n",
        "                    labels = labels.to(torch.long)\n",
        "                    #loss = criterion(outputs, labels)\n",
        "                    _, predicted = torch.max(outputs.data, -1)\n",
        "                    total_val_correct += (predicted == labels).sum().item()\n",
        "                    #running_val_loss.append(loss.item())\n",
        "\n",
        "\n",
        "        #loss_val.append(np.mean(running_val_loss))    \n",
        "        acc_val.append(total_val_correct/ total_val)\n",
        "        #print('Validation accuracy = ' + str(round(acc_val[-1], 4))+', validation loss = ' + str(round(loss_val[-1], 4)) + '\\n')\n",
        "        print('Validation accuracy = ' + str(round(acc_val[-1], 4))+'\\n')\n",
        "\n",
        "    return loss_train, acc_train, loss_val, acc_val\n",
        " "
      ],
      "execution_count": null,
      "outputs": []
    },
    {
      "cell_type": "markdown",
      "metadata": {
        "id": "A-MQCoC1_2nx"
      },
      "source": [
        "# Question 15"
      ]
    },
    {
      "cell_type": "code",
      "metadata": {
        "colab": {
          "base_uri": "https://localhost:8080/"
        },
        "id": "AbHcoXLDADzH",
        "outputId": "87ffad6f-da44-41db-e572-d39be60613d1"
      },
      "source": [
        "\"\"\" Count parameters of the CNN of the previous section \"\"\"\n",
        "model = Net()\n",
        "\n",
        "def get_n_params(model):\n",
        "    params = 0\n",
        "    for p in list(model.parameters()):\n",
        "        nn=1\n",
        "        for s in list(p.size()):\n",
        "            nn = nn*s\n",
        "        params += nn\n",
        "    return params\n",
        "\n",
        "get_n_params(model)"
      ],
      "execution_count": null,
      "outputs": [
        {
          "output_type": "execute_result",
          "data": {
            "text/plain": [
              "29066"
            ]
          },
          "metadata": {},
          "execution_count": 28
        }
      ]
    },
    {
      "cell_type": "code",
      "metadata": {
        "colab": {
          "base_uri": "https://localhost:8080/"
        },
        "id": "9PS10OkfTl98",
        "outputId": "55476fe6-26f4-4171-9e68-4051fdbbc05d"
      },
      "source": [
        "def count_params(N):\n",
        "    \"\"\"\n",
        "    Function that calculates the number of parameters for the new CNN model given N\n",
        "    \"\"\"\n",
        "    return 16*10 + 32*(1+16*9) + N*(1+32*9) + (1+N)*10\n",
        "\n",
        "# Trial-and-error shows that N=81 is the best choice\n",
        "print(count_params(80))\n",
        "print(count_params(81))\n",
        "print(count_params(82))"
      ],
      "execution_count": null,
      "outputs": [
        {
          "name": "stdout",
          "output_type": "stream",
          "text": [
            "28730\n",
            "29029\n",
            "29328\n"
          ]
        }
      ]
    },
    {
      "cell_type": "code",
      "metadata": {
        "id": "U8dOgl44_5Lu"
      },
      "source": [
        "\"\"\" Defining the new CNN \"\"\"\n",
        "\n",
        "class Net_N(nn.Module):\n",
        "    def __init__(self, N, pool_type='max'):\n",
        "        super().__init__()\n",
        "        self.conv1 = nn.Conv2d(1, 16, 3, 1, 1)\n",
        "        self.pool  = nn.MaxPool2d(2, 2)\n",
        "        self.conv2 = nn.Conv2d(16, 32, 3, 1, 1)\n",
        "        self.conv3 = nn.Conv2d(32, N, 3, 1, 1)\n",
        "        self.lin = nn.Linear(N, 10)\n",
        "        self.pool_type = pool_type\n",
        "\n",
        "    def forward(self, x):\n",
        "        x = self.pool(F.relu(self.conv1(x)))\n",
        "        x = self.pool(F.relu(self.conv2(x)))\n",
        "        x = self.pool(F.relu(self.conv3(x)))\n",
        "        if self.pool_type == 'max':\n",
        "            x = self.lin(nn.MaxPool2d(x.size()[2:])(x).squeeze())\n",
        "        elif self.pool_type == 'mean':\n",
        "            x = self.lin(nn.AvgPool2d(x.size()[2:])(x).squeeze())\n",
        "\n",
        "        return x\n",
        "\n",
        "\n"
      ],
      "execution_count": null,
      "outputs": []
    },
    {
      "cell_type": "markdown",
      "metadata": {
        "id": "DCGc3loFGc8k"
      },
      "source": [
        "# Question 16"
      ]
    },
    {
      "cell_type": "code",
      "metadata": {
        "colab": {
          "base_uri": "https://localhost:8080/"
        },
        "id": "zfefN5t397hy",
        "outputId": "81cb6134-2536-456d-cddd-8ad226733bf8"
      },
      "source": [
        "# create CNN (global max)\n",
        "model_max = Net_N(81)\n",
        "model_max.to(device)\n",
        "\n",
        "learning_rate = 0.001\n",
        "criterion_max = nn.CrossEntropyLoss()     \n",
        "optimizer_max = optim.Adam(model_max.parameters(), lr = learning_rate)\n",
        "\n",
        "# create lists of the dataloaders with different image sizes\n",
        "trainloaders = [data_32_train, data_48_train, data_64_train]\n",
        "valloaders = [data_32_val, data_48_val, data_64_val]\n",
        "\n",
        "\n",
        "# train the model\n",
        "loss_train, acc_train, loss_val, acc_val = training_Q14(model_max, optimizer_max, criterion_max, trainloaders, 3, valloaders)"
      ],
      "execution_count": null,
      "outputs": [
        {
          "name": "stdout",
          "output_type": "stream",
          "text": [
            "Training.....\n",
            "Training.....\n",
            "Training.....\n",
            "Training.....\n",
            "Training.....\n",
            "Training.....\n",
            "Training.....\n",
            "Epoch 1, training accuracy = 0.9157, training loss = 0.2965\n",
            "Validation accuracy = 0.9568\n",
            "\n",
            "Training.....\n",
            "Training.....\n",
            "Training.....\n",
            "Training.....\n",
            "Training.....\n",
            "Training.....\n",
            "Training.....\n",
            "Epoch 2, training accuracy = 0.9704, training loss = 0.0996\n",
            "Validation accuracy = 0.9749\n",
            "\n",
            "Training.....\n",
            "Training.....\n",
            "Training.....\n",
            "Training.....\n",
            "Training.....\n",
            "Training.....\n",
            "Training.....\n",
            "Epoch 3, training accuracy = 0.9762, training loss = 0.0772\n",
            "Validation accuracy = 0.9664\n",
            "\n"
          ]
        }
      ]
    },
    {
      "cell_type": "code",
      "metadata": {
        "colab": {
          "base_uri": "https://localhost:8080/"
        },
        "id": "KQtRpJBiG1b3",
        "outputId": "a508f4a6-8acc-47ac-b044-dc4dea19bb2f"
      },
      "source": [
        "\"\"\" Now comparing to a CNN with a global mean! \"\"\"\n",
        "# create CNN (global man)\n",
        "model_mean = Net_N(81, pool_type='mean')\n",
        "model_mean.to(device)\n",
        "\n",
        "learning_rate = 0.001\n",
        "criterion_mean = nn.CrossEntropyLoss()     \n",
        "optimizer_mean = optim.Adam(model_mean.parameters(), lr = learning_rate)\n",
        "\n",
        "# create lists of the dataloaders with different image sizes\n",
        "trainloaders = [data_32_train, data_48_train, data_64_train]\n",
        "valloaders = [data_32_val, data_48_val, data_64_val]\n",
        "\n",
        "\n",
        "# train the model\n",
        "loss_train, acc_train, loss_val, acc_val = training_Q14(model_mean, optimizer_mean, criterion_mean, trainloaders, 3, valloaders)"
      ],
      "execution_count": null,
      "outputs": [
        {
          "name": "stdout",
          "output_type": "stream",
          "text": [
            "Training.....\n",
            "Training.....\n",
            "Training.....\n",
            "Training.....\n",
            "Training.....\n",
            "Training.....\n",
            "Training.....\n",
            "Epoch 1, training accuracy = 0.9151, training loss = 0.2867\n",
            "Validation accuracy = 0.9638\n",
            "\n",
            "Training.....\n",
            "Training.....\n",
            "Training.....\n",
            "Training.....\n",
            "Training.....\n",
            "Training.....\n",
            "Training.....\n",
            "Epoch 2, training accuracy = 0.9749, training loss = 0.0927\n",
            "Validation accuracy = 0.9823\n",
            "\n",
            "Training.....\n",
            "Training.....\n",
            "Training.....\n",
            "Training.....\n",
            "Training.....\n",
            "Training.....\n",
            "Training.....\n",
            "Epoch 3, training accuracy = 0.9813, training loss = 0.069\n",
            "Validation accuracy = 0.981\n",
            "\n"
          ]
        }
      ]
    },
    {
      "cell_type": "markdown",
      "metadata": {
        "id": "HV_rlS9IHed6"
      },
      "source": [
        "Looks like a global mean performs better! Next we'll compare it to the original CNN network where we resize all images to shape 64x64. "
      ]
    },
    {
      "cell_type": "markdown",
      "source": [
        "# Question 17\n"
      ],
      "metadata": {
        "id": "f4FvWUPEdk1y"
      }
    },
    {
      "cell_type": "code",
      "source": [
        "def accuracy(model, dataloader, validate=False, criterion=None):\n",
        "    correct = 0\n",
        "    total = 0\n",
        "    # since we're not training, we don't need to calculate the gradients for our outputs\n",
        "    with torch.no_grad():\n",
        "        for data in dataloader:\n",
        "            images, labels = data[0].to(device), data[1].to(device)\n",
        "\n",
        "            # calculate outputs by running images through the network\n",
        "            outputs = model(images)\n",
        "            \n",
        "            if validate:\n",
        "                loss = criterion(outputs, labels)\n",
        "\n",
        "            # the class with the highest energy is what we choose as prediction\n",
        "            _, predicted = torch.max(outputs.data, 1)\n",
        "            total += labels.size(0)\n",
        "            correct += (predicted == labels).sum().item()\n",
        "    if validate:\n",
        "        return correct / total, loss.item()\n",
        "    else:\n",
        "        return correct / total\n",
        "\n",
        "\"\"\" Training Loop \"\"\"\n",
        "\n",
        "def training_Q17(model, optimizer, criterion, trainloader, n_epochs, validate=None):\n",
        "    # lists for results\n",
        "    loss_train, loss_val, acc_train, acc_val = [], [], [], []\n",
        "    \n",
        "    for epoch in range(n_epochs):\n",
        "        running_loss = []\n",
        "\n",
        "        for i, data in enumerate(trainloader):\n",
        "            inputs, labels = data[0].to(device), data[1].to(device)\n",
        "\n",
        "            optimizer.zero_grad()\n",
        "\n",
        "            # forward + loss\n",
        "            outputs = model(inputs)\n",
        "            loss = criterion(outputs, labels)\n",
        "\n",
        "            # backward\n",
        "            loss.backward()\n",
        "\n",
        "            # update\n",
        "            optimizer.step()\n",
        "\n",
        "            # loss\n",
        "            running_loss.append(loss.item())\n",
        "\n",
        "            if i % 1000 == 0:  \n",
        "                #print('[%d, %5d]' %(epoch + 1, i))\n",
        "                print('training')\n",
        "\n",
        "        loss_train.append(np.mean(running_loss))\n",
        "\n",
        "        acc = accuracy(model, trainloader)\n",
        "        acc_train.append(acc)\n",
        "        print('Epoch ' + str(epoch+1) + ', training accuracy = ' + str(round(acc, 4)) + ', training loss = ' + str(round(loss_train[-1], 4)))  \n",
        "\n",
        "        if validate:\n",
        "            acc_validate, loss_validate = accuracy(model, validate, True, criterion)\n",
        "            acc_val.append(acc_validate)\n",
        "            loss_val.append(loss_validate)\n",
        "            print('Validation accuracy = ' + str(round(acc_validate, 4))+', validation loss = ' + str(round(loss_val[-1], 4)) + '\\n')\n",
        "\n",
        "    \n",
        "        \n",
        "    \n",
        "    if validate:\n",
        "        return loss_train, acc_train, loss_val, acc_val\n",
        "    else:\n",
        "        return loss_train, acc_train"
      ],
      "metadata": {
        "id": "KDPy1TLmdo_o"
      },
      "execution_count": null,
      "outputs": []
    },
    {
      "cell_type": "code",
      "source": [
        "\"\"\" CNN with input all resized to 28x28 \"\"\" \n",
        "\n",
        "learning_rate = 0.001\n",
        "model_resized = Net()\n",
        "model_resized.to(device)\n",
        "\n",
        "criterion_resized = nn.CrossEntropyLoss()     \n",
        "optimizer_resized = optim.Adam(model_resized.parameters(), lr = learning_rate)\n",
        "\n",
        "loss_train, acc_train, loss_val, acc_val = training_Q17(model_resized, optimizer_resized, criterion_resized, train_loader_28, 5, val_loader_28)\n",
        "\n"
      ],
      "metadata": {
        "id": "ZJoGaolrdts2"
      },
      "execution_count": null,
      "outputs": []
    },
    {
      "cell_type": "code",
      "source": [
        "\"\"\" CNN with varied resolution input \"\"\"\n",
        "\n",
        "learning_rate = 0.001\n",
        "model_var_N = Net_N(81, 'mean')\n",
        "model_var_N.to(device)\n",
        "\n",
        "criterion_var_N = nn.CrossEntropyLoss()     \n",
        "optimizer_var_N = optim.Adam(model_var_N.parameters(), lr = learning_rate)\n",
        "\n",
        "trainloaders = [data_32_train, data_48_train, data_64_train]\n",
        "valloaders = [data_32_val, data_48_val, data_64_val]\n",
        "\n",
        "\n",
        "loss_train, acc_train, loss_val, acc_val = training_Q14(model_var_N, optimizer_var_N, criterion_var_N, trainloaders, 5, valloaders)\n",
        "\n"
      ],
      "metadata": {
        "id": "IIHL6cUzdvQl"
      },
      "execution_count": null,
      "outputs": []
    },
    {
      "cell_type": "code",
      "source": [
        "\"\"\" \n",
        "Deeper CNN with varied resolution input \n",
        "This one has an extra convolution layer and an extra maxpooling layer.\n",
        "\n",
        "\"\"\"\n",
        " \n",
        "\n",
        "class Net_M(nn.Module):\n",
        "    def __init__(self, N, M, pool_type='max'):\n",
        "        super().__init__()\n",
        "        self.conv1 = nn.Conv2d(1, 16, 3, 1, 1)\n",
        "        self.pool  = nn.MaxPool2d(2, 2)\n",
        "        self.conv2 = nn.Conv2d(16, 32, 3, 1, 1)\n",
        "        self.conv3 = nn.Conv2d(32, N, 3, 1, 1)\n",
        "        self.conv4 = nn.Conv2d(N, M, 3, 1, 1)\n",
        "        self.lin = nn.Linear(M, 10)\n",
        "        self.pool_type = pool_type\n",
        "\n",
        "    def forward(self, x):\n",
        "        x = self.pool(F.relu(self.conv1(x)))\n",
        "        x = self.pool(F.relu(self.conv2(x)))\n",
        "        x = self.pool(F.relu(self.conv3(x)))\n",
        "        x = self.pool(F.relu(self.conv4(x)))\n",
        "        if self.pool_type == 'max':\n",
        "            x = self.lin(nn.MaxPool2d(x.size()[2:])(x).squeeze())\n",
        "        elif self.pool_type == 'mean':\n",
        "            x = self.lin(nn.AvgPool2d(x.size()[2:])(x).squeeze())\n",
        "\n",
        "        return x\n",
        "\n",
        "\"\"\"\n",
        "N and M are chosen such that the network has rougly the same number of weights as before. \n",
        "\"\"\"\n",
        "N = 46\n",
        "M = 26\n",
        "\n",
        "def calc(N, M):\n",
        "    count = 16*10 + 32*(16*3*3+1) + N*(32*3*3+1) + M*(N*3*3+1) + 10*(M+1)\n",
        "    return count\n",
        "\n",
        "print(calc(N, M))"
      ],
      "metadata": {
        "id": "oB4gMu2FdwzC"
      },
      "execution_count": null,
      "outputs": []
    },
    {
      "cell_type": "code",
      "source": [
        "learning_rate = 0.001\n",
        "model_var = Net_M(46, 26, 'mean')\n",
        "model_var.to(device)\n",
        "\n",
        "criterion_var = nn.CrossEntropyLoss()     \n",
        "optimizer_var = optim.Adam(model_var.parameters(), lr = learning_rate)\n",
        "\n",
        "trainloaders = [data_32_train, data_48_train, data_64_train]\n",
        "valloaders = [data_32_val, data_48_val, data_64_val]\n",
        "\n",
        "\n",
        "loss_train, acc_train, loss_val, acc_val = training_Q14(model_var, optimizer_var, criterion_var, trainloaders, 5, valloaders)\n",
        "\n"
      ],
      "metadata": {
        "id": "SAT77hmad02h"
      },
      "execution_count": null,
      "outputs": []
    },
    {
      "cell_type": "code",
      "source": [
        "\"\"\" Getting test data to resize everything to 28x28 \"\"\" \n",
        "\n",
        "normalize = transforms.Normalize((0.1307,), (0.3081,))\n",
        "\n",
        "# resizing the images and making them have 1 channel rather than 3\n",
        "transform_test = transforms.Compose([transforms.ToTensor(), normalize, transforms.Resize([28, 28]), transforms.Grayscale(1)]) \n",
        "\n",
        "root = 'mnist-varres/test'\n",
        "testset = torchvision.datasets.ImageFolder(root, transform = transform_test)\n",
        "\n",
        "# Creating dataloader\n",
        "testloader_28 = torch.utils.data.DataLoader(testset, batch_size=32, shuffle=True, num_workers=2)\n",
        "\n",
        "\n",
        "\"\"\" Getting test data separated in 3 folders based on resolution \"\"\"\n",
        "\n",
        "# creating datasets\n",
        "data_32_test = VarDataset(32, 'test')\n",
        "data_48_test = VarDataset(48, 'test')\n",
        "data_64_test = VarDataset(64, 'test')\n",
        "\n",
        "# creating dataloaders\n",
        "testloader_32 = torch.utils.data.DataLoader(data_32_test, batch_size =32, shuffle=True, num_workers=2)\n",
        "testloader_48 = torch.utils.data.DataLoader(data_48_test, batch_size =32, shuffle=True, num_workers=2)\n",
        "testloader_64 = torch.utils.data.DataLoader(data_64_test, batch_size =32, shuffle=True, num_workers=2)\n"
      ],
      "metadata": {
        "id": "I28Pgrk0d2y1"
      },
      "execution_count": null,
      "outputs": []
    },
    {
      "cell_type": "code",
      "source": [
        "\"\"\" Testing the models \"\"\" \n",
        "\n",
        "def test_accuracy_Q17(model, testloaders):\n",
        "    \"\"\"\n",
        "    Second parameter requires a list of testloaders (may contain just one testloader)\n",
        "    \"\"\"\n",
        "\n",
        "    total = 0 \n",
        "    correct = 0 \n",
        "\n",
        "    for testloader in testloaders:\n",
        "        for i, data in enumerate(testloader):\n",
        "            inputs, labels = data[0].to(device), data[1].to(device)\n",
        "            \n",
        "            total += labels.size(0)\n",
        "\n",
        "            with torch.no_grad():\n",
        "                outputs = model(inputs)\n",
        "                _, predicted = torch.max(outputs.data, -1)\n",
        "                correct += (predicted == labels).sum().item()\n",
        "    \n",
        "    print('Accuracy on test set = ' + str(round(correct/total, 4)))\n",
        "\n",
        "\n",
        "# testing resized input CNN\n",
        "print('For the network with input resized to 28x28: ')\n",
        "test_accuracy_Q17(model_resized, [testloader_28])\n",
        "\n",
        "testloaders_var = [testloader_32, testloader_48, testloader_64]\n",
        "\n",
        "print('\\nFor the network with varied input (Q16):')\n",
        "test_accuracy_Q17(model_var_N, testloaders_var)\n",
        "\n",
        "print('\\nFor the deeper network with varied input (Q17):')\n",
        "test_accuracy_Q17(model_var, testloaders_var)"
      ],
      "metadata": {
        "id": "MhbxIPg3d4Fl"
      },
      "execution_count": null,
      "outputs": []
    }
  ]
}